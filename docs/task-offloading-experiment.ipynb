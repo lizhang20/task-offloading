{
 "cells": [
  {
   "cell_type": "code",
   "execution_count": 19,
   "metadata": {},
   "outputs": [],
   "source": [
    "import requests\n",
    "import json\n",
    "import time\n",
    "import random"
   ]
  },
  {
   "cell_type": "code",
   "execution_count": 8,
   "metadata": {},
   "outputs": [],
   "source": [
    "baseurl = \"http://127.0.0.1:8899\""
   ]
  },
  {
   "cell_type": "code",
   "execution_count": 9,
   "metadata": {},
   "outputs": [],
   "source": [
    "def get_ret(url):\n",
    "    r = requests.get(url)\n",
    "    if r.status_code != 200:\n",
    "        return \"Error connection\"\n",
    "    else:\n",
    "        data = json.loads(r.text)\n",
    "        return data"
   ]
  },
  {
   "cell_type": "code",
   "execution_count": 10,
   "metadata": {},
   "outputs": [
    {
     "data": {
      "text/plain": [
       "{'data': 'world',\n",
       " 'server': '127.0.0.1',\n",
       " 'status_code': 200,\n",
       " 'time': 0.004659891128540039}"
      ]
     },
     "execution_count": 10,
     "metadata": {},
     "output_type": "execute_result"
    }
   ],
   "source": [
    "# test1\n",
    "ret = get_ret(baseurl)\n",
    "ret"
   ]
  },
  {
   "cell_type": "code",
   "execution_count": 11,
   "metadata": {
    "collapsed": true,
    "jupyter": {
     "outputs_hidden": true
    }
   },
   "outputs": [
    {
     "name": "stdout",
     "output_type": "stream",
     "text": [
      "{'data': 'world', 'server': '127.0.0.1', 'status_code': 200, 'time': 0.0041010379791259766}\n",
      "{'data': 'world', 'server': '127.0.0.1', 'status_code': 200, 'time': 0.004312038421630859}\n",
      "{'data': 'world', 'server': '127.0.0.1', 'status_code': 200, 'time': 0.003984928131103516}\n",
      "{'data': 'world', 'server': '127.0.0.1', 'status_code': 200, 'time': 0.0042438507080078125}\n",
      "{'data': 'world', 'server': '127.0.0.1', 'status_code': 200, 'time': 0.005995988845825195}\n",
      "{'data': 'world', 'server': '127.0.0.1', 'status_code': 200, 'time': 0.00408482551574707}\n",
      "{'data': 'world', 'server': '127.0.0.1', 'status_code': 200, 'time': 0.004042148590087891}\n",
      "{'data': 'world', 'server': '127.0.0.1', 'status_code': 200, 'time': 0.0038619041442871094}\n",
      "{'data': 'world', 'server': '127.0.0.1', 'status_code': 200, 'time': 0.0038640499114990234}\n",
      "{'data': 'world', 'server': '127.0.0.1', 'status_code': 200, 'time': 0.004061222076416016}\n",
      "{'data': 'world', 'server': '127.0.0.1', 'status_code': 200, 'time': 0.0038001537322998047}\n",
      "{'data': 'world', 'server': '192.168.56.3', 'status_code': 200, 'time': 0.008599042892456055}\n",
      "{'data': 'world', 'server': '192.168.56.2', 'status_code': 200, 'time': 0.007171154022216797}\n",
      "{'data': 'world', 'server': '192.168.56.2', 'status_code': 200, 'time': 0.006144046783447266}\n",
      "{'data': 'world', 'server': '192.168.56.3', 'status_code': 200, 'time': 0.00630497932434082}\n",
      "{'data': 'world', 'server': '192.168.56.3', 'status_code': 200, 'time': 0.006016969680786133}\n",
      "{'data': 'world', 'server': '192.168.56.3', 'status_code': 200, 'time': 0.0063059329986572266}\n",
      "{'data': 'world', 'server': '192.168.56.3', 'status_code': 200, 'time': 0.005460023880004883}\n",
      "{'data': 'world', 'server': '192.168.56.3', 'status_code': 200, 'time': 0.005585908889770508}\n",
      "{'data': 'world', 'server': '192.168.56.2', 'status_code': 200, 'time': 0.005446910858154297}\n"
     ]
    }
   ],
   "source": [
    "# test2\n",
    "for i in range(20):\n",
    "    ret = get_ret(baseurl)\n",
    "    print(ret)"
   ]
  },
  {
   "cell_type": "code",
   "execution_count": 16,
   "metadata": {
    "collapsed": true,
    "jupyter": {
     "outputs_hidden": true
    }
   },
   "outputs": [
    {
     "name": "stdout",
     "output_type": "stream",
     "text": [
      "{'data': 'world', 'server': '127.0.0.1', 'status_code': 200, 'time': 0.004257678985595703}\n",
      "{'data': 'world', 'server': '127.0.0.1', 'status_code': 200, 'time': 0.004311084747314453}\n",
      "{'data': 'world', 'server': '127.0.0.1', 'status_code': 200, 'time': 0.003681659698486328}\n",
      "{'data': 'world', 'server': '127.0.0.1', 'status_code': 200, 'time': 0.004538774490356445}\n",
      "{'data': 'world', 'server': '127.0.0.1', 'status_code': 200, 'time': 0.003877878189086914}\n",
      "{'data': 'world', 'server': '127.0.0.1', 'status_code': 200, 'time': 0.004271745681762695}\n",
      "{'data': 'world', 'server': '127.0.0.1', 'status_code': 200, 'time': 0.003812074661254883}\n",
      "{'data': 'world', 'server': '127.0.0.1', 'status_code': 200, 'time': 0.0038192272186279297}\n",
      "{'data': 'world', 'server': '127.0.0.1', 'status_code': 200, 'time': 0.0037429332733154297}\n",
      "{'data': 'world', 'server': '127.0.0.1', 'status_code': 200, 'time': 0.003943920135498047}\n",
      "{'data': 'world', 'server': '127.0.0.1', 'status_code': 200, 'time': 0.003759145736694336}\n",
      "{'data': 'world', 'server': '192.168.56.2', 'status_code': 200, 'time': 0.0064928531646728516}\n",
      "{'data': 'world', 'server': '192.168.56.2', 'status_code': 200, 'time': 0.006174802780151367}\n",
      "{'data': 'world', 'server': '192.168.56.3', 'status_code': 200, 'time': 0.00607609748840332}\n",
      "{'data': 'world', 'server': '192.168.56.3', 'status_code': 200, 'time': 0.006076812744140625}\n",
      "{'data': 'world', 'server': '192.168.56.2', 'status_code': 200, 'time': 0.006114006042480469}\n",
      "{'data': 'world', 'server': '192.168.56.2', 'status_code': 200, 'time': 0.005888938903808594}\n",
      "{'data': 'world', 'server': '192.168.56.3', 'status_code': 200, 'time': 0.006086826324462891}\n",
      "{'data': 'world', 'server': '192.168.56.3', 'status_code': 200, 'time': 0.005694150924682617}\n",
      "{'data': 'world', 'server': '192.168.56.2', 'status_code': 200, 'time': 0.005449771881103516}\n",
      "{'data': 'world', 'server': '127.0.0.1', 'status_code': 200, 'time': 0.0038220882415771484}\n",
      "{'data': 'world', 'server': '127.0.0.1', 'status_code': 200, 'time': 0.003688335418701172}\n",
      "{'data': 'world', 'server': '127.0.0.1', 'status_code': 200, 'time': 0.003498077392578125}\n",
      "{'data': 'world', 'server': '127.0.0.1', 'status_code': 200, 'time': 0.0034699440002441406}\n",
      "{'data': 'world', 'server': '127.0.0.1', 'status_code': 200, 'time': 0.0034041404724121094}\n",
      "{'data': 'world', 'server': '127.0.0.1', 'status_code': 200, 'time': 0.003106832504272461}\n",
      "{'data': 'world', 'server': '127.0.0.1', 'status_code': 200, 'time': 0.0030782222747802734}\n",
      "{'data': 'world', 'server': '127.0.0.1', 'status_code': 200, 'time': 0.0029900074005126953}\n",
      "{'data': 'world', 'server': '127.0.0.1', 'status_code': 200, 'time': 0.0030210018157958984}\n",
      "{'data': 'world', 'server': '127.0.0.1', 'status_code': 200, 'time': 0.0028939247131347656}\n",
      "{'data': 'world', 'server': '127.0.0.1', 'status_code': 200, 'time': 0.0029921531677246094}\n",
      "{'data': 'world', 'server': '192.168.56.3', 'status_code': 200, 'time': 0.005568027496337891}\n",
      "{'data': 'world', 'server': '192.168.56.2', 'status_code': 200, 'time': 0.0052258968353271484}\n",
      "{'data': 'world', 'server': '192.168.56.2', 'status_code': 200, 'time': 0.005009174346923828}\n",
      "{'data': 'world', 'server': '192.168.56.3', 'status_code': 200, 'time': 0.005530118942260742}\n",
      "{'data': 'world', 'server': '192.168.56.2', 'status_code': 200, 'time': 0.0054399967193603516}\n",
      "{'data': 'world', 'server': '192.168.56.2', 'status_code': 200, 'time': 0.005363941192626953}\n",
      "{'data': 'world', 'server': '192.168.56.2', 'status_code': 200, 'time': 0.005323886871337891}\n",
      "{'data': 'world', 'server': '192.168.56.2', 'status_code': 200, 'time': 0.005425930023193359}\n",
      "{'data': 'world', 'server': '192.168.56.3', 'status_code': 200, 'time': 0.005396842956542969}\n"
     ]
    }
   ],
   "source": [
    "# test3\n",
    "for i in range(10):\n",
    "    ret = get_ret(baseurl)\n",
    "    print(ret)\n",
    "\n",
    "time.sleep(0.5)\n",
    "for i in range(10):\n",
    "    ret = get_ret(baseurl)\n",
    "    print(ret)\n",
    "\n",
    "time.sleep(1)\n",
    "for i in range(20):\n",
    "    ret = get_ret(baseurl)\n",
    "    print(ret)"
   ]
  },
  {
   "cell_type": "code",
   "execution_count": 21,
   "metadata": {
    "collapsed": true,
    "jupyter": {
     "outputs_hidden": true
    }
   },
   "outputs": [
    {
     "name": "stdout",
     "output_type": "stream",
     "text": [
      "{'data': 'world', 'server': '127.0.0.1', 'status_code': 200, 'time': 0.0043561458587646484}\n",
      "{'data': 'world', 'server': '127.0.0.1', 'status_code': 200, 'time': 0.006315946578979492}\n",
      "{'data': 'world', 'server': '127.0.0.1', 'status_code': 200, 'time': 0.0048258304595947266}\n",
      "{'data': 'world', 'server': '127.0.0.1', 'status_code': 200, 'time': 0.004381895065307617}\n",
      "{'data': 'world', 'server': '127.0.0.1', 'status_code': 200, 'time': 0.004560232162475586}\n",
      "{'data': 'world', 'server': '127.0.0.1', 'status_code': 200, 'time': 0.003952741622924805}\n",
      "{'data': 'world', 'server': '127.0.0.1', 'status_code': 200, 'time': 0.003818988800048828}\n",
      "{'data': 'world', 'server': '127.0.0.1', 'status_code': 200, 'time': 0.00397801399230957}\n",
      "{'data': 'world', 'server': '127.0.0.1', 'status_code': 200, 'time': 0.003911018371582031}\n",
      "{'data': 'world', 'server': '127.0.0.1', 'status_code': 200, 'time': 0.003940105438232422}\n",
      "{'data': 'world', 'server': '127.0.0.1', 'status_code': 200, 'time': 0.0038819313049316406}\n",
      "{'data': 'world', 'server': '192.168.56.2', 'status_code': 200, 'time': 0.0069370269775390625}\n",
      "{'data': 'world', 'server': '192.168.56.2', 'status_code': 200, 'time': 0.00648808479309082}\n",
      "{'data': 'world', 'server': '127.0.0.1', 'status_code': 200, 'time': 0.003748178482055664}\n",
      "{'data': 'world', 'server': '127.0.0.1', 'status_code': 200, 'time': 0.004011869430541992}\n",
      "{'data': 'world', 'server': '127.0.0.1', 'status_code': 200, 'time': 0.004032611846923828}\n",
      "{'data': 'world', 'server': '127.0.0.1', 'status_code': 200, 'time': 0.0036649703979492188}\n",
      "{'data': 'world', 'server': '127.0.0.1', 'status_code': 200, 'time': 0.0038750171661376953}\n",
      "{'data': 'world', 'server': '127.0.0.1', 'status_code': 200, 'time': 0.0040018558502197266}\n",
      "{'data': 'world', 'server': '127.0.0.1', 'status_code': 200, 'time': 0.0037391185760498047}\n",
      "{'data': 'world', 'server': '127.0.0.1', 'status_code': 200, 'time': 0.0038149356842041016}\n",
      "{'data': 'world', 'server': '127.0.0.1', 'status_code': 200, 'time': 0.003504037857055664}\n",
      "{'data': 'world', 'server': '127.0.0.1', 'status_code': 200, 'time': 0.003420114517211914}\n",
      "{'data': 'world', 'server': '127.0.0.1', 'status_code': 200, 'time': 0.0037288665771484375}\n",
      "{'data': 'world', 'server': '127.0.0.1', 'status_code': 200, 'time': 0.0032701492309570312}\n",
      "{'data': 'world', 'server': '127.0.0.1', 'status_code': 200, 'time': 0.003615140914916992}\n",
      "{'data': 'world', 'server': '127.0.0.1', 'status_code': 200, 'time': 0.0035028457641601562}\n",
      "{'data': 'world', 'server': '127.0.0.1', 'status_code': 200, 'time': 0.0036568641662597656}\n",
      "{'data': 'world', 'server': '127.0.0.1', 'status_code': 200, 'time': 0.003762960433959961}\n",
      "{'data': 'world', 'server': '127.0.0.1', 'status_code': 200, 'time': 0.0035848617553710938}\n",
      "{'data': 'world', 'server': '192.168.56.3', 'status_code': 200, 'time': 0.00616002082824707}\n",
      "{'data': 'world', 'server': '192.168.56.2', 'status_code': 200, 'time': 0.005911111831665039}\n",
      "{'data': 'world', 'server': '192.168.56.2', 'status_code': 200, 'time': 0.0056841373443603516}\n",
      "{'data': 'world', 'server': '192.168.56.2', 'status_code': 200, 'time': 0.005462169647216797}\n",
      "{'data': 'world', 'server': '192.168.56.3', 'status_code': 200, 'time': 0.005423069000244141}\n",
      "{'data': 'world', 'server': '192.168.56.2', 'status_code': 200, 'time': 0.0052127838134765625}\n",
      "{'data': 'world', 'server': '192.168.56.2', 'status_code': 200, 'time': 0.005280017852783203}\n",
      "{'data': 'world', 'server': '192.168.56.2', 'status_code': 200, 'time': 0.00517725944519043}\n",
      "{'data': 'world', 'server': '192.168.56.3', 'status_code': 200, 'time': 0.005309104919433594}\n",
      "{'data': 'world', 'server': '192.168.56.2', 'status_code': 200, 'time': 0.0052149295806884766}\n",
      "{'data': 'world', 'server': '192.168.56.2', 'status_code': 200, 'time': 0.005159854888916016}\n",
      "{'data': 'world', 'server': '192.168.56.2', 'status_code': 200, 'time': 0.005164146423339844}\n",
      "{'data': 'world', 'server': '192.168.56.3', 'status_code': 200, 'time': 0.0059969425201416016}\n",
      "{'data': 'world', 'server': '192.168.56.3', 'status_code': 200, 'time': 0.005254268646240234}\n",
      "{'data': 'world', 'server': '192.168.56.2', 'status_code': 200, 'time': 0.005228757858276367}\n",
      "{'data': 'world', 'server': '192.168.56.3', 'status_code': 200, 'time': 0.0054149627685546875}\n",
      "{'data': 'world', 'server': '192.168.56.3', 'status_code': 200, 'time': 0.006006002426147461}\n",
      "{'data': 'world', 'server': '192.168.56.2', 'status_code': 200, 'time': 0.005642890930175781}\n",
      "{'data': 'world', 'server': '192.168.56.2', 'status_code': 200, 'time': 0.005880832672119141}\n",
      "{'data': 'world', 'server': '192.168.56.3', 'status_code': 200, 'time': 0.0055429935455322266}\n",
      "{'data': 'world', 'server': '192.168.56.2', 'status_code': 200, 'time': 0.005439043045043945}\n",
      "{'data': 'world', 'server': '192.168.56.2', 'status_code': 200, 'time': 0.005246162414550781}\n",
      "{'data': 'world', 'server': '192.168.56.2', 'status_code': 200, 'time': 0.005298137664794922}\n",
      "{'data': 'world', 'server': '192.168.56.2', 'status_code': 200, 'time': 0.0050580501556396484}\n",
      "{'data': 'world', 'server': '192.168.56.2', 'status_code': 200, 'time': 0.005590915679931641}\n",
      "{'data': 'world', 'server': '192.168.56.2', 'status_code': 200, 'time': 0.005171060562133789}\n",
      "{'data': 'world', 'server': '192.168.56.2', 'status_code': 200, 'time': 0.005228996276855469}\n",
      "{'data': 'world', 'server': '192.168.56.2', 'status_code': 200, 'time': 0.005331993103027344}\n",
      "{'data': 'world', 'server': '192.168.56.2', 'status_code': 200, 'time': 0.005224943161010742}\n",
      "{'data': 'world', 'server': '192.168.56.2', 'status_code': 200, 'time': 0.0054090023040771484}\n",
      "{'data': 'world', 'server': '192.168.56.2', 'status_code': 200, 'time': 0.005372762680053711}\n",
      "{'data': 'world', 'server': '192.168.56.2', 'status_code': 200, 'time': 0.0051479339599609375}\n",
      "{'data': 'world', 'server': '192.168.56.3', 'status_code': 200, 'time': 0.005305051803588867}\n",
      "{'data': 'world', 'server': '192.168.56.2', 'status_code': 200, 'time': 0.005089998245239258}\n",
      "{'data': 'world', 'server': '192.168.56.2', 'status_code': 200, 'time': 0.00546717643737793}\n",
      "{'data': 'world', 'server': '192.168.56.2', 'status_code': 200, 'time': 0.005201101303100586}\n",
      "{'data': 'world', 'server': '192.168.56.2', 'status_code': 200, 'time': 0.0054950714111328125}\n",
      "{'data': 'world', 'server': '192.168.56.2', 'status_code': 200, 'time': 0.0053136348724365234}\n",
      "{'data': 'world', 'server': '192.168.56.2', 'status_code': 200, 'time': 0.005316019058227539}\n",
      "{'data': 'world', 'server': '192.168.56.2', 'status_code': 200, 'time': 0.0056040287017822266}\n",
      "{'data': 'world', 'server': '192.168.56.2', 'status_code': 200, 'time': 0.005990743637084961}\n",
      "{'data': 'world', 'server': '192.168.56.2', 'status_code': 200, 'time': 0.005282163619995117}\n",
      "{'data': 'world', 'server': '192.168.56.2', 'status_code': 200, 'time': 0.00561213493347168}\n",
      "{'data': 'world', 'server': '192.168.56.2', 'status_code': 200, 'time': 0.00568699836730957}\n",
      "{'data': 'world', 'server': '192.168.56.2', 'status_code': 200, 'time': 0.005495786666870117}\n",
      "{'data': 'world', 'server': '192.168.56.2', 'status_code': 200, 'time': 0.005309104919433594}\n",
      "{'data': 'world', 'server': '192.168.56.3', 'status_code': 200, 'time': 0.005443096160888672}\n",
      "{'data': 'world', 'server': '192.168.56.2', 'status_code': 200, 'time': 0.005352973937988281}\n",
      "{'data': 'world', 'server': '192.168.56.2', 'status_code': 200, 'time': 0.005300998687744141}\n",
      "{'data': 'world', 'server': '192.168.56.3', 'status_code': 200, 'time': 0.005400180816650391}\n",
      "{'data': 'world', 'server': '192.168.56.2', 'status_code': 200, 'time': 0.005237102508544922}\n",
      "{'data': 'world', 'server': '192.168.56.2', 'status_code': 200, 'time': 0.00559687614440918}\n",
      "{'data': 'world', 'server': '192.168.56.3', 'status_code': 200, 'time': 0.005280017852783203}\n",
      "{'data': 'world', 'server': '192.168.56.2', 'status_code': 200, 'time': 0.005209207534790039}\n",
      "{'data': 'world', 'server': '192.168.56.2', 'status_code': 200, 'time': 0.005194902420043945}\n",
      "{'data': 'world', 'server': '192.168.56.3', 'status_code': 200, 'time': 0.0054988861083984375}\n",
      "{'data': 'world', 'server': '192.168.56.2', 'status_code': 200, 'time': 0.005269050598144531}\n",
      "{'data': 'world', 'server': '192.168.56.2', 'status_code': 200, 'time': 0.005142927169799805}\n",
      "{'data': 'world', 'server': '192.168.56.2', 'status_code': 200, 'time': 0.005255937576293945}\n",
      "{'data': 'world', 'server': '192.168.56.2', 'status_code': 200, 'time': 0.0055751800537109375}\n",
      "{'data': 'world', 'server': '192.168.56.2', 'status_code': 200, 'time': 0.005307197570800781}\n",
      "{'data': 'world', 'server': '192.168.56.2', 'status_code': 200, 'time': 0.005082130432128906}\n",
      "{'data': 'world', 'server': '192.168.56.2', 'status_code': 200, 'time': 0.005522966384887695}\n",
      "{'data': 'world', 'server': '192.168.56.3', 'status_code': 200, 'time': 0.006201982498168945}\n",
      "{'data': 'world', 'server': '192.168.56.3', 'status_code': 200, 'time': 0.00540614128112793}\n",
      "{'data': 'world', 'server': '192.168.56.2', 'status_code': 200, 'time': 0.00568699836730957}\n",
      "{'data': 'world', 'server': '192.168.56.2', 'status_code': 200, 'time': 0.005644798278808594}\n",
      "{'data': 'world', 'server': '192.168.56.2', 'status_code': 200, 'time': 0.005487203598022461}\n",
      "{'data': 'world', 'server': '192.168.56.2', 'status_code': 200, 'time': 0.00526118278503418}\n",
      "{'data': 'world', 'server': '192.168.56.2', 'status_code': 200, 'time': 0.005692005157470703}\n"
     ]
    }
   ],
   "source": [
    "# test4\n",
    "for i in range(100):\n",
    "    ret = get_ret(baseurl)\n",
    "    print(ret)\n",
    "    if i > 10 and i < 20:\n",
    "        time.sleep(random.random())"
   ]
  },
  {
   "cell_type": "markdown",
   "metadata": {},
   "source": [
    "## Start Now"
   ]
  },
  {
   "cell_type": "code",
   "execution_count": 221,
   "metadata": {},
   "outputs": [
    {
     "name": "stdout",
     "output_type": "stream",
     "text": [
      "CPU times: user 2.13 s, sys: 198 ms, total: 2.33 s\n",
      "Wall time: 12.5 s\n"
     ]
    }
   ],
   "source": [
    "%%time\n",
    "\n",
    "all_data.clear()\n",
    "start_time = time.time()\n",
    "for i in range(1000):\n",
    "    r = get_ret(baseurl)\n",
    "    time.sleep(random.randint(1, 5) / 1000)\n",
    "    all_data.append((time.time() - start_time, r[\"server\"], r[\"throughput\"], r[\"time\"]))"
   ]
  },
  {
   "cell_type": "code",
   "execution_count": 222,
   "metadata": {},
   "outputs": [],
   "source": [
    "lst_local = []\n",
    "lst_server1 = []\n",
    "lst_server2 = []"
   ]
  },
  {
   "cell_type": "code",
   "execution_count": 223,
   "metadata": {},
   "outputs": [],
   "source": [
    "for item in all_data:\n",
    "    if item[1] == \"127.0.0.1\":\n",
    "        lst_local.append(item)\n",
    "    elif item[1] == \"192.168.56.2\":\n",
    "        lst_server1.append(item)\n",
    "    elif item[1] == \"192.168.56.3\":\n",
    "        lst_server2.append(item)"
   ]
  },
  {
   "cell_type": "code",
   "execution_count": 224,
   "metadata": {},
   "outputs": [],
   "source": [
    "def get_delay_on_device(lst):\n",
    "    delay = [item[3] for item in lst]\n",
    "    return delay\n",
    "\n",
    "def convert_lst_to_time_count(lst):\n",
    "    new_lst = []\n",
    "    for i in range(len(lst)):\n",
    "        new_lst.append((lst[i][0], i))\n",
    "    return new_lst\n",
    "\n",
    "def convert_lst_to_time_throughput(lst):\n",
    "    new_lst = []\n",
    "    for item in lst:\n",
    "        new_lst.append((item[0], item[2]))\n",
    "    return new_lst"
   ]
  },
  {
   "cell_type": "code",
   "execution_count": 225,
   "metadata": {},
   "outputs": [],
   "source": [
    "# 不同服务器上，不同的时间点的请求数量 [(time, count), (time, count), ...]\n",
    "local_time_req = convert_lst_to_time_count(lst_local)\n",
    "server1_time_req = convert_lst_to_time_count(lst_server1)\n",
    "server2_time_req = convert_lst_to_time_count(lst_server2)\n",
    "\n",
    "# 任务卸载到不同的服务器上，每个请求在各个机器上的时间 [req_time1, req_time2, ...]\n",
    "local_delay = get_delay_on_device(lst_local)\n",
    "server1_delay = get_delay_on_device(lst_server1)\n",
    "server2_delay = get_delay_on_device(lst_server2)"
   ]
  },
  {
   "cell_type": "code",
   "execution_count": 241,
   "metadata": {},
   "outputs": [
    {
     "name": "stdout",
     "output_type": "stream",
     "text": [
      "0.0036019340774716712 0.0063363126529160365 0.0065738513384978785\n"
     ]
    }
   ],
   "source": [
    "import numpy as np\n",
    "\n",
    "print(np.mean(local_delay), np.mean(server1_delay), np.mean(server2_delay))"
   ]
  },
  {
   "cell_type": "code",
   "execution_count": 226,
   "metadata": {},
   "outputs": [],
   "source": [
    "import matplotlib.pyplot as plt\n",
    "import seaborn as sns\n",
    "sns.set()"
   ]
  },
  {
   "cell_type": "code",
   "execution_count": 227,
   "metadata": {},
   "outputs": [],
   "source": [
    "# 将不同时间点的请求数量列表 [(time, count), (time, count), ..] ，时间和请求数量分开到两个单独的列表\n",
    "def generate_plot_time_req(lst):\n",
    "    time = [item[0] for item in lst]\n",
    "    count = [item[1] for item in lst]\n",
    "    return time, count"
   ]
  },
  {
   "cell_type": "code",
   "execution_count": 256,
   "metadata": {},
   "outputs": [
    {
     "data": {
      "image/png": "[encoded data removed]",
      "text/plain": [
       "<Figure size 432x288 with 1 Axes>"
      ]
     },
     "metadata": {},
     "output_type": "display_data"
    },
    {
     "data": {
      "text/plain": [
       "<Figure size 432x288 with 0 Axes>"
      ]
     },
     "metadata": {},
     "output_type": "display_data"
    }
   ],
   "source": [
    "# time, request counts on local device\n",
    "local_time, local_count = generate_plot_time_req(local_time_req)\n",
    "plt.plot(local_time, local_count, color='r', label=f\"local device: {np.mean(local_delay):.4f}s\")\n",
    "plt.ylabel(\"request counts\", fontsize=16)\n",
    "plt.xlabel(\"time\", fontsize=16)\n",
    "\n",
    "# time, request counts on server1\n",
    "server1_time, server1_count = generate_plot_time_req(server1_time_req)\n",
    "plt.plot(server1_time, server1_count, color='b', label=f\"server1: {np.mean(server1_delay):.4f}s\")\n",
    "\n",
    "# time, request counts on server2\n",
    "server2_time, server2_count = generate_plot_time_req(server2_time_req)\n",
    "plt.plot(server2_time, server2_count, color='y', label=f\"server2: {np.mean(server2_delay):.4f}s\")\n",
    "\n",
    "# time, throughput on local device\n",
    "local_throughout_time = convert_lst_to_time_throughput(lst_local)\n",
    "throughput_time, throughput_cnt = generate_plot_time_req(local_throughout_time)\n",
    "plt.plot(throughput_time, throughput_cnt, color='g', label=\"throughput\", linestyle=\"--\", linewidth=1.5)\n",
    "\n",
    "\n",
    "plt.title(\"Request counts / avg delay on different devices\", fontsize=16)\n",
    "plt.legend(loc='upper left',scatterpoints=1,ncol=1, fontsize=15,numpoints = 1)\n",
    "plt.savefig(\"request_counts_comparation.png\")\n",
    "plt.show()"
   ]
  },
  {
   "cell_type": "code",
   "execution_count": 257,
   "metadata": {},
   "outputs": [
    {
     "data": {
      "image/png": "[encoded data removed]",
      "text/plain": [
       "<Figure size 432x288 with 1 Axes>"
      ]
     },
     "metadata": {},
     "output_type": "display_data"
    },
    {
     "data": {
      "text/plain": [
       "<Figure size 432x288 with 0 Axes>"
      ]
     },
     "metadata": {},
     "output_type": "display_data"
    }
   ],
   "source": [
    "# request count on local device, throughput on local device\n",
    "# use local_req_time, local_throughput_time\n",
    "\n",
    "plt.plot(local_time, local_count, color='r', label=\"request counts\", linestyle=\":\", linewidth=2.5)\n",
    "plt.plot(throughput_time, throughput_cnt, color='g', label=\"throughput\", linestyle=\"--\", linewidth=2.5)\n",
    "\n",
    "plt.ylabel(\"request counts / throughout\", fontsize=16)\n",
    "plt.xlabel(\"time\", fontsize=16)\n",
    "\n",
    "plt.legend(loc='upper left',scatterpoints=1,ncol=1, fontsize=15,numpoints = 1)\n",
    "plt.title(\"Request counts and throughput on local device\", fontsize=16)\n",
    "plt.savefig(\"local_request_counts_throughput.png\")\n",
    "plt.show()"
   ]
  },
  {
   "cell_type": "code",
   "execution_count": null,
   "metadata": {},
   "outputs": [],
   "source": []
  }
 ],
 "metadata": {
  "kernelspec": {
   "display_name": "Python 3",
   "language": "python",
   "name": "python3"
  },
  "language_info": {
   "codemirror_mode": {
    "name": "ipython",
    "version": 3
   },
   "file_extension": ".py",
   "mimetype": "text/x-python",
   "name": "python",
   "nbconvert_exporter": "python",
   "pygments_lexer": "ipython3",
   "version": "3.7.6"
  }
 },
 "nbformat": 4,
 "nbformat_minor": 4
}
